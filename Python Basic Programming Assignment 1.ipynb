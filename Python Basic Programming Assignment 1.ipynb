{
 "cells": [
  {
   "cell_type": "markdown",
   "metadata": {},
   "source": [
    "#### 1. Write a Python program to print \"Hello Python\"?"
   ]
  },
  {
   "cell_type": "code",
   "execution_count": 1,
   "metadata": {},
   "outputs": [
    {
     "name": "stdout",
     "output_type": "stream",
     "text": [
      "Hello Python\n"
     ]
    }
   ],
   "source": [
    "print(\"Hello Python\")"
   ]
  },
  {
   "cell_type": "markdown",
   "metadata": {},
   "source": [
    "#### 2. Write a Python program to do arithmetical operations addition and division?"
   ]
  },
  {
   "cell_type": "code",
   "execution_count": 12,
   "metadata": {},
   "outputs": [
    {
     "name": "stdout",
     "output_type": "stream",
     "text": [
      "Enter first number.20\n",
      "Enter Second Number.5\n",
      "Which arithmetic operation do you want to perform? Choose between (+,/)/\n",
      "4.0\n"
     ]
    }
   ],
   "source": [
    "num1 = int(input(\"Enter first number.\"))\n",
    "num2 = int(input(\"Enter Second Number.\"))\n",
    "operator = input(\"Which arithmetic operation do you want to perform? Choose between (+,/)\")\n",
    "\n",
    "if (operator == \"+\"):\n",
    "    print(num1+num2)\n",
    "elif (operator == \"/\"):\n",
    "    print(num1/num2)\n",
    "else:\n",
    "    print(\"Chose a correct operator between '+' and '/'\")"
   ]
  },
  {
   "cell_type": "markdown",
   "metadata": {},
   "source": [
    "#### 3. Write a Python program to find the area of a triangle?"
   ]
  },
  {
   "cell_type": "code",
   "execution_count": 15,
   "metadata": {},
   "outputs": [
    {
     "name": "stdout",
     "output_type": "stream",
     "text": [
      "Enter the height of the triangle:20\n",
      "Enter the base of the triangle:56\n",
      "The area of the triangle is  560.0\n"
     ]
    }
   ],
   "source": [
    "height = float(input(\"Enter the height of the triangle:\"))\n",
    "base = float(input(\"Enter the base of the triangle:\"))\n",
    "\n",
    "area = (height*base)/2\n",
    "\n",
    "print(\"The area of the triangle is \", area)"
   ]
  },
  {
   "cell_type": "markdown",
   "metadata": {},
   "source": [
    "#### 4. Write a Python program to swap two variables?"
   ]
  },
  {
   "cell_type": "code",
   "execution_count": 17,
   "metadata": {},
   "outputs": [
    {
     "name": "stdout",
     "output_type": "stream",
     "text": [
      "Enter the value of X:20\n",
      "Enter the value of Y:13.54\n",
      "The value of X after swapping is:  13.54\n",
      "The value of Y after swapping is:  20.0\n"
     ]
    }
   ],
   "source": [
    "x = float(input(\"Enter the value of X:\"))\n",
    "y = float(input(\"Enter the value of Y:\"))\n",
    "\n",
    "print(\"The value of X after swapping is: \", y)\n",
    "print(\"The value of Y after swapping is: \", x)"
   ]
  },
  {
   "cell_type": "markdown",
   "metadata": {},
   "source": [
    "#### 5. Write a Python program to generate a random number?"
   ]
  },
  {
   "cell_type": "code",
   "execution_count": 28,
   "metadata": {},
   "outputs": [
    {
     "name": "stdout",
     "output_type": "stream",
     "text": [
      "78\n"
     ]
    }
   ],
   "source": [
    "import random\n",
    "a = int(random.random()*100)\n",
    "print(a)"
   ]
  }
 ],
 "metadata": {
  "kernelspec": {
   "display_name": "Python 3",
   "language": "python",
   "name": "python3"
  },
  "language_info": {
   "codemirror_mode": {
    "name": "ipython",
    "version": 3
   },
   "file_extension": ".py",
   "mimetype": "text/x-python",
   "name": "python",
   "nbconvert_exporter": "python",
   "pygments_lexer": "ipython3",
   "version": "3.8.5"
  }
 },
 "nbformat": 4,
 "nbformat_minor": 4
}
