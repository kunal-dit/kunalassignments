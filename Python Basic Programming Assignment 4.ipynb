{
 "cells": [
  {
   "cell_type": "markdown",
   "metadata": {},
   "source": [
    "#### 1. Write a Python Program to Find the Factorial of a Number?"
   ]
  },
  {
   "cell_type": "code",
   "execution_count": 1,
   "metadata": {},
   "outputs": [
    {
     "name": "stdout",
     "output_type": "stream",
     "text": [
      "Enter a number:5\n",
      "120\n"
     ]
    }
   ],
   "source": [
    "num = int(input(\"Enter a number:\"))\n",
    "fact=1\n",
    "for i in range(1,num+1):\n",
    "    fact = fact*i\n",
    "          \n",
    "print(fact)"
   ]
  },
  {
   "cell_type": "markdown",
   "metadata": {},
   "source": [
    "#### 2. Write a Python Program to Display the multiplication Table?"
   ]
  },
  {
   "cell_type": "code",
   "execution_count": 6,
   "metadata": {},
   "outputs": [
    {
     "name": "stdout",
     "output_type": "stream",
     "text": [
      "Enter a number:10\n",
      "10 x 1 = 10\n",
      "10 x 2 = 20\n",
      "10 x 3 = 30\n",
      "10 x 4 = 40\n",
      "10 x 5 = 50\n",
      "10 x 6 = 60\n",
      "10 x 7 = 70\n",
      "10 x 8 = 80\n",
      "10 x 9 = 90\n",
      "10 x 10 = 100\n",
      "10 x 11 = 110\n",
      "10 x 12 = 120\n",
      "10 x 13 = 130\n",
      "10 x 14 = 140\n",
      "10 x 15 = 150\n",
      "10 x 16 = 160\n",
      "10 x 17 = 170\n",
      "10 x 18 = 180\n",
      "10 x 19 = 190\n",
      "10 x 20 = 200\n"
     ]
    }
   ],
   "source": [
    "num = int(input(\"Enter a number:\"))\n",
    "\n",
    "for i in range(1,21):\n",
    "    print(num,\"x\",i,\"=\",num*i)"
   ]
  },
  {
   "cell_type": "markdown",
   "metadata": {},
   "source": [
    "#### 3. Write a Python Program to Print the Fibonacci sequence?"
   ]
  },
  {
   "cell_type": "code",
   "execution_count": 19,
   "metadata": {},
   "outputs": [
    {
     "name": "stdout",
     "output_type": "stream",
     "text": [
      "Enter the number:10\n",
      "0\n",
      "1\n",
      "1\n",
      "2\n",
      "3\n",
      "5\n",
      "8\n",
      "13\n",
      "21\n",
      "34\n"
     ]
    }
   ],
   "source": [
    "n = int(input(\"Enter the number:\"))\n",
    "def fiboSeries(n):\n",
    "    if n==0:\n",
    "        return 0\n",
    "    elif n==1:\n",
    "        return 1\n",
    "    else:\n",
    "        return fiboSeries(n-2)+fiboSeries(n-1)\n",
    "for i in range (n):\n",
    "    print(fiboSeries(i))"
   ]
  },
  {
   "cell_type": "markdown",
   "metadata": {},
   "source": [
    "#### 4. Write a Python Program to Check Armstrong Number?"
   ]
  },
  {
   "cell_type": "code",
   "execution_count": 18,
   "metadata": {},
   "outputs": [
    {
     "name": "stdout",
     "output_type": "stream",
     "text": [
      "Enter a number:370\n",
      "It is a armstrong number.\n"
     ]
    }
   ],
   "source": [
    "number = int(input(\"Enter a number:\"))\n",
    "strNumber = str(number)\n",
    "indiList = list(strNumber)\n",
    "\n",
    "integerList = map(int,indiList)\n",
    "\n",
    "integerList = list(integerList)\n",
    "\n",
    "cubeList=[]\n",
    "for i in integerList:\n",
    "    cubeList.append(i**3)\n",
    "\n",
    "totalNumber = sum(cubeList)\n",
    "\n",
    "if number == totalNumber:\n",
    "    print(\"It is a armstrong number.\")\n",
    "else:\n",
    "    print(\"It is not an armstrong number.\")"
   ]
  },
  {
   "cell_type": "markdown",
   "metadata": {},
   "source": [
    "#### 5. Write a Python Program to Find Armstrong Number in an Interval?"
   ]
  },
  {
   "cell_type": "code",
   "execution_count": 23,
   "metadata": {},
   "outputs": [
    {
     "name": "stdout",
     "output_type": "stream",
     "text": [
      "Enter the start of your range:100\n",
      "Enter the end of your range:500\n",
      "The list of Armstrong numbers in the given range: [153, 370, 371, 407]\n"
     ]
    }
   ],
   "source": [
    "startNum = int(input(\"Enter the start of your range:\"))\n",
    "endNum = int(input(\"Enter the end of your range:\"))\n",
    "\n",
    "\n",
    "def armstrong(number):\n",
    "    strNumber = str(number)\n",
    "    indiList = list(strNumber)\n",
    "    integerList = map(int,indiList)\n",
    "    integerList = list(integerList)\n",
    "    cubeList = []\n",
    "    for i in integerList:\n",
    "        cubeList.append(i**3)\n",
    "    totalNumber = sum(cubeList)\n",
    "    if number == totalNumber:\n",
    "        return number\n",
    "\n",
    "oldArmstrong = [armstrong(number) for number in range(startNum,endNum+1)]\n",
    "newArmstrong = []\n",
    "for i in oldArmstrong:\n",
    "    if i!= None :\n",
    "        newArmstrong.append(i)\n",
    "\n",
    "print(\"The list of Armstrong numbers in the given range:\",newArmstrong)\n"
   ]
  },
  {
   "cell_type": "markdown",
   "metadata": {},
   "source": [
    "#### 6. Write a Python Program to Find the Sum of Natural Numbers?"
   ]
  },
  {
   "cell_type": "code",
   "execution_count": 30,
   "metadata": {},
   "outputs": [
    {
     "name": "stdout",
     "output_type": "stream",
     "text": [
      "Enter till which number would you like find the sum:15\n",
      "120.0\n"
     ]
    }
   ],
   "source": [
    "number = int(input(\"Enter till which number would you like find the sum:\"))\n",
    "\n",
    "if number < 0:\n",
    "    print(\"Please enter a postitive number\")\n",
    "else:\n",
    "    sum = (number*(number+1))/2\n",
    "    print(sum)"
   ]
  },
  {
   "cell_type": "code",
   "execution_count": null,
   "metadata": {},
   "outputs": [],
   "source": []
  },
  {
   "cell_type": "code",
   "execution_count": null,
   "metadata": {},
   "outputs": [],
   "source": []
  }
 ],
 "metadata": {
  "kernelspec": {
   "display_name": "Python 3",
   "language": "python",
   "name": "python3"
  },
  "language_info": {
   "codemirror_mode": {
    "name": "ipython",
    "version": 3
   },
   "file_extension": ".py",
   "mimetype": "text/x-python",
   "name": "python",
   "nbconvert_exporter": "python",
   "pygments_lexer": "ipython3",
   "version": "3.8.5"
  }
 },
 "nbformat": 4,
 "nbformat_minor": 4
}
