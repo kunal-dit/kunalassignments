{
 "cells": [
  {
   "cell_type": "markdown",
   "metadata": {},
   "source": [
    "#### 1. Write a Python Program to find sum of array?"
   ]
  },
  {
   "cell_type": "code",
   "execution_count": 14,
   "metadata": {},
   "outputs": [
    {
     "data": {
      "text/plain": [
       "58"
      ]
     },
     "execution_count": 14,
     "metadata": {},
     "output_type": "execute_result"
    }
   ],
   "source": [
    "import array as arr\n",
    "\n",
    "def sumArr(giveArray):\n",
    "    \"\"\"\n",
    "    This function is to find the sum of all elements in the array. Enter an array of either integer or float to get the \n",
    "    sum of all elements in the array.\n",
    "    \"\"\"\n",
    "    if giveArray.typecode != 'u':\n",
    "        sumArray = 0\n",
    "        for i in range(0, len(giveArray)):\n",
    "            sumArray = sumArray + giveArray[i]\n",
    "        return(sumArray)\n",
    "    else:\n",
    "        print(\"The given elements cannot be added.\")\n",
    "        \n",
    "\n",
    "sumArr(arr.array('i',[10,25,78,-55]))"
   ]
  },
  {
   "cell_type": "markdown",
   "metadata": {},
   "source": [
    "#### 2.Write a Python Program to find largest element in an array?"
   ]
  },
  {
   "cell_type": "code",
   "execution_count": 21,
   "metadata": {},
   "outputs": [
    {
     "data": {
      "text/plain": [
       "3553534"
      ]
     },
     "execution_count": 21,
     "metadata": {},
     "output_type": "execute_result"
    }
   ],
   "source": [
    "import array as arr\n",
    "\n",
    "def greatArr(giveArray):\n",
    "    \"\"\"\n",
    "    This function is to find the sum of all elements in the array. Enter an array of either integer or float to get \n",
    "    the largest element in the array.\n",
    "    \"\"\"\n",
    "    if giveArray.typecode != 'u':\n",
    "        greater = giveArray[0]\n",
    "        for i in range(0, len(giveArray)):\n",
    "            if giveArray[i] > greater:\n",
    "                greater = giveArray[i]\n",
    "            else:\n",
    "                pass\n",
    "        return greater\n",
    "        \n",
    "    else:\n",
    "        print(\"The given elements are not integer or float.\")\n",
    "\n",
    "greatArr(arr.array('i',[10,25,78,-55,45,23,1,5,1314,3553534,31,35,56]))"
   ]
  },
  {
   "cell_type": "markdown",
   "metadata": {},
   "source": [
    "#### 3. Write a Python Program for array rotation?"
   ]
  },
  {
   "cell_type": "code",
   "execution_count": 2,
   "metadata": {},
   "outputs": [
    {
     "data": {
      "text/plain": [
       "array('i', [56, 10, 25, 78, -55, 45, 23, 1, 5, 1314, 3553534, 31, 35])"
      ]
     },
     "execution_count": 2,
     "metadata": {},
     "output_type": "execute_result"
    }
   ],
   "source": [
    "import array as arr\n",
    "\n",
    "def rotateArr(giveArray):\n",
    "    \"\"\"\n",
    "    This function is to find the rotate the elements in the array by 1 step. Enter an array to rotate it.\n",
    "    \"\"\"\n",
    "    giveArray.insert(0,giveArray[len(giveArray)-1])\n",
    "    giveArray.pop(len(giveArray)-1)\n",
    "    return giveArray\n",
    "\n",
    "rotateArr(arr.array('i',[10,25,78,-55,45,23,1,5,1314,3553534,31,35,56]))"
   ]
  },
  {
   "cell_type": "markdown",
   "metadata": {},
   "source": [
    "#### 4. Write a Python Program to Split the array and add the first part to the end?"
   ]
  },
  {
   "cell_type": "code",
   "execution_count": 21,
   "metadata": {},
   "outputs": [
    {
     "data": {
      "text/plain": [
       "array([-55,  45,  10,  25,  78])"
      ]
     },
     "execution_count": 21,
     "metadata": {},
     "output_type": "execute_result"
    }
   ],
   "source": [
    "import array as arr\n",
    "import numpy as np\n",
    "\n",
    "newArray = []\n",
    "def splitArr(giveArray):\n",
    "    \"\"\"\n",
    "    This function is to split the array into hald and then add the first part at the end. Enter an array to interchange.\n",
    "    \"\"\"\n",
    "    split = len(giveArray)//2\n",
    "    for i in range(split+1, len(giveArray)): \n",
    "        newArray.append(giveArray[i])\n",
    "    for j in range(0,split+1):\n",
    "        newArray.append(giveArray[j])\n",
    "    return np.array(newArray)\n",
    "\n",
    "splitArr(arr.array('i',[10,25,78,-55,45]))"
   ]
  },
  {
   "cell_type": "markdown",
   "metadata": {},
   "source": [
    "#### 5. Write a Python Program to check if given array is Monotonic?"
   ]
  },
  {
   "cell_type": "code",
   "execution_count": 21,
   "metadata": {},
   "outputs": [
    {
     "name": "stdout",
     "output_type": "stream",
     "text": [
      "It is a Monotonic Array\n"
     ]
    }
   ],
   "source": [
    "import array as arr\n",
    "def monotonicChecker(giveArray):\n",
    "    if (all(giveArray[i] <= giveArray[i + 1] for i in range(len(giveArray) - 1)) or\n",
    "            all(giveArray[i] >= giveArray[i + 1] for i in range(len(giveArray) - 1))):\n",
    "        print(\"It is a Monotonic Array\")\n",
    "    else:\n",
    "        print(\"It is not a Monotonic Array.\")\n",
    "  \n",
    "monotonicChecker(arr.array('i',[10,10,10,3,2,-5,-10])) \n",
    "                    \n",
    "                    \n",
    "                \n",
    "        "
   ]
  }
 ],
 "metadata": {
  "kernelspec": {
   "display_name": "Python 3",
   "language": "python",
   "name": "python3"
  },
  "language_info": {
   "codemirror_mode": {
    "name": "ipython",
    "version": 3
   },
   "file_extension": ".py",
   "mimetype": "text/x-python",
   "name": "python",
   "nbconvert_exporter": "python",
   "pygments_lexer": "ipython3",
   "version": "3.8.5"
  }
 },
 "nbformat": 4,
 "nbformat_minor": 4
}
