{
 "cells": [
  {
   "cell_type": "markdown",
   "metadata": {},
   "source": [
    "#### 1.Write a Python program to convert kilometers to miles"
   ]
  },
  {
   "cell_type": "code",
   "execution_count": 6,
   "metadata": {
    "scrolled": true
   },
   "outputs": [
    {
     "name": "stdout",
     "output_type": "stream",
     "text": [
      "Enter the distance in KMs:55\n",
      "The distance after converting is 34.18 miles\n"
     ]
    }
   ],
   "source": [
    "km = float(input(\"Enter the distance in KMs:\"))\n",
    "print(\"The distance after converting is\",round((km/1.609), 2), \"miles\")"
   ]
  },
  {
   "cell_type": "markdown",
   "metadata": {},
   "source": [
    "#### 2. Write a Python program to convert Celsius to Fahrenheit?"
   ]
  },
  {
   "cell_type": "code",
   "execution_count": 10,
   "metadata": {},
   "outputs": [
    {
     "name": "stdout",
     "output_type": "stream",
     "text": [
      "Enter the temperature in Celcius:38\n",
      "The temperature after converting is 100.4 °F\n"
     ]
    }
   ],
   "source": [
    "celcius = float(input(\"Enter the temperature in Celcius:\"))\n",
    "fahrenheit = (celcius*9/5)+32\n",
    "print(\"The temperature after converting is\",round(fahrenheit, 1), \"°F\")"
   ]
  },
  {
   "cell_type": "markdown",
   "metadata": {},
   "source": [
    "#### 3. Write a Python program to display calendar?"
   ]
  },
  {
   "cell_type": "code",
   "execution_count": 1,
   "metadata": {},
   "outputs": [
    {
     "name": "stdout",
     "output_type": "stream",
     "text": [
      "Enter year:1947\n",
      "Enter month (1-12):8\n",
      "    August 1947\n",
      "Mo Tu We Th Fr Sa Su\n",
      "             1  2  3\n",
      " 4  5  6  7  8  9 10\n",
      "11 12 13 14 15 16 17\n",
      "18 19 20 21 22 23 24\n",
      "25 26 27 28 29 30 31\n",
      "\n"
     ]
    }
   ],
   "source": [
    "import calendar\n",
    "year = int(input(\"Enter year:\"))\n",
    "month = int(input(\"Enter month (1-12):\"))\n",
    "\n",
    "if (month <= 12) and (month >= 1):\n",
    "    print(calendar.month(year,month))\n",
    "else:\n",
    "    print(\"Enter a valid month.\")\n",
    "    \n"
   ]
  },
  {
   "cell_type": "markdown",
   "metadata": {},
   "source": [
    "#### 4. Write a Python program to solve quadratic equation?"
   ]
  },
  {
   "cell_type": "code",
   "execution_count": 44,
   "metadata": {},
   "outputs": [
    {
     "name": "stdout",
     "output_type": "stream",
     "text": [
      "Please mention the values of a,b and c as shown in Quadratic equation (ax^2+bx+c=0)\n",
      "Enter the value of a:10\n",
      "Enter the value of b:15\n",
      "Enter the value of c:20\n",
      "The values of x are complex and are (-0.75+23.98j) and (-0.75-23.98j)\n"
     ]
    }
   ],
   "source": [
    "import math\n",
    "print(\"Please mention the values of a,b and c as shown in Quadratic equation (ax^2+bx+c=0)\")\n",
    "a = float(input(\"Enter the value of a:\"))\n",
    "b = float(input(\"Enter the value of b:\"))\n",
    "c = float(input(\"Enter the value of c:\"))\n",
    "\n",
    "determinant = b**2 - 4*a*c\n",
    "\n",
    "if (determinant > 0):\n",
    "    x1, x2 = (-b + math.sqrt(determinant))/(2*a) , (-b - math.sqrt(determinant))/(2*a)\n",
    "    print(\"The values of x are real and are\", x1,\"and\",x2)\n",
    "elif (determinant < 0):\n",
    "    x1 = complex(real = -b/(2*a), imag = round(math.sqrt(determinant*-1),2))\n",
    "    x2 = complex(real = -b/(2*a), imag = round(-math.sqrt(determinant*-1),2))   \n",
    "     \n",
    "    print(\"The values of x are complex and are\", x1, \"and\", x2)\n",
    "else:\n",
    "    x1 = -b/(2*a)\n",
    "    print(\"There is only one real value of x, and it is\", x1)\n",
    "\n"
   ]
  },
  {
   "cell_type": "markdown",
   "metadata": {},
   "source": [
    "#### 5. Write a Python program to swap two variables without temp variable?"
   ]
  },
  {
   "cell_type": "code",
   "execution_count": 48,
   "metadata": {},
   "outputs": [
    {
     "name": "stdout",
     "output_type": "stream",
     "text": [
      "Enter the value of x:10\n",
      "Enter the value of y:12\n",
      "Values after swapping are as follows \n",
      "x: 12 \n",
      "y: 10\n"
     ]
    }
   ],
   "source": [
    "x = input(\"Enter the value of x:\")\n",
    "y = input(\"Enter the value of y:\")\n",
    "\n",
    "x,y = y,x\n",
    "\n",
    "print(\"Values after swapping are as follows \\n\" \"x:\", x, \"\\ny:\", y)\n"
   ]
  },
  {
   "cell_type": "code",
   "execution_count": null,
   "metadata": {},
   "outputs": [],
   "source": []
  }
 ],
 "metadata": {
  "kernelspec": {
   "display_name": "Python 3",
   "language": "python",
   "name": "python3"
  },
  "language_info": {
   "codemirror_mode": {
    "name": "ipython",
    "version": 3
   },
   "file_extension": ".py",
   "mimetype": "text/x-python",
   "name": "python",
   "nbconvert_exporter": "python",
   "pygments_lexer": "ipython3",
   "version": "3.8.5"
  }
 },
 "nbformat": 4,
 "nbformat_minor": 4
}
