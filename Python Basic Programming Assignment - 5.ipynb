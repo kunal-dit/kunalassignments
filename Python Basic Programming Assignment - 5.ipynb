{
 "cells": [
  {
   "cell_type": "markdown",
   "metadata": {},
   "source": [
    "#### 1. Write a Python Program to Find LCM?"
   ]
  },
  {
   "cell_type": "code",
   "execution_count": 27,
   "metadata": {},
   "outputs": [
    {
     "name": "stdout",
     "output_type": "stream",
     "text": [
      "Enter the first number:25\n",
      "Enter a second number:26\n",
      "The LCM of 25 and 26 is: 650\n"
     ]
    }
   ],
   "source": [
    "firstNum = int(input(\"Enter the first number:\"))\n",
    "secNum = int(input(\"Enter a second number:\"))\n",
    "multiplesFirstNum = []\n",
    "multiplesSecNum = []\n",
    "\n",
    "for i in range(1, secNum+1):\n",
    "    multiplesFirstNum.append(i*firstNum)\n",
    "for j in range(1,firstNum+1):\n",
    "    multiplesSecNum.append(j*secNum)\n",
    "\n",
    "        \n",
    "setMulitpleFirstNum = set(multiplesFirstNum)\n",
    "\n",
    "intersection = setMulitpleFirstNum.intersection(multiplesSecNum)\n",
    "\n",
    "commonMultiples = list(intersection)\n",
    "\n",
    "print(\"The LCM of\",firstNum,\"and\",secNum,\"is:\", min(commonMultiples))"
   ]
  },
  {
   "cell_type": "markdown",
   "metadata": {},
   "source": [
    "#### 2. Write a Python Program to Find HCF?"
   ]
  },
  {
   "cell_type": "code",
   "execution_count": 34,
   "metadata": {},
   "outputs": [
    {
     "name": "stdout",
     "output_type": "stream",
     "text": [
      "Enter the first number:15\n",
      "Enter a second number:100\n",
      "The HCF of 15 and 100 is: 5\n"
     ]
    }
   ],
   "source": [
    "firstNum = int(input(\"Enter the first number:\"))\n",
    "secNum = int(input(\"Enter a second number:\"))\n",
    "factorsFirstNum = []\n",
    "factorsSecNum = []\n",
    "for i in range(1, firstNum+1):\n",
    "    if firstNum%i == 0:\n",
    "        factorsFirstNum.append(i)\n",
    "for j in range(1,secNum+1):\n",
    "    if secNum%j == 0:\n",
    "        factorsSecNum.append(j)\n",
    "        \n",
    "setFactorsFirstNum = set(factorsFirstNum)\n",
    "\n",
    "intersection = setFactorsFirstNum.intersection(factorsSecNum)\n",
    "\n",
    "commonFactors = list(intersection)\n",
    "\n",
    "print(\"The HCF of\",firstNum,\"and\",secNum,\"is:\", max(commonFactors))"
   ]
  },
  {
   "cell_type": "markdown",
   "metadata": {},
   "source": [
    "#### 3.\tWrite a Python Program to Convert Decimal to Binary, Octal and Hexadecimal?"
   ]
  },
  {
   "cell_type": "code",
   "execution_count": 13,
   "metadata": {},
   "outputs": [
    {
     "name": "stdout",
     "output_type": "stream",
     "text": [
      "Enter a number:1000\n",
      "The number in binary is:1111101000\n",
      "The number in octal is:1750\n",
      "The number in Hexadecimal is:3E8"
     ]
    }
   ],
   "source": [
    "num = int(input(\"Enter a number:\"))\n",
    "binary = []\n",
    "octal=[]\n",
    "hexa=[]\n",
    "\n",
    "conversionTable = {0:\"0\", 1:\"1\", 2:\"2\", 3:\"3\", 4:\"4\", 5:\"5\", 6:\"6\", 7:\"7\", 8:\"8\", \n",
    "                9:\"9\", 10:\"A\", 11:\"B\", 12:\"C\", 13:\"D\", 14:\"E\",15:\"F\"}\n",
    "\n",
    "def decToBin(n):\n",
    "    if (n==0 or n==1):\n",
    "        binary.append(n)\n",
    "    else:\n",
    "        while(n>1):\n",
    "            remainder = n%2\n",
    "            quotient = n//2\n",
    "            if (quotient<2):\n",
    "                binary.append(remainder)\n",
    "                binary.append(quotient)\n",
    "                break\n",
    "            else:\n",
    "                binary.append(remainder)\n",
    "                n = quotient   \n",
    "    print(\"The number in binary is:\",end=\"\")    \n",
    "    for i in range(len(binary)-1,-1,-1):\n",
    "        print(binary[i],end=\"\")\n",
    "        \n",
    "def decToOct(n):\n",
    "    if n<8:\n",
    "        octal.append(n)\n",
    "    else:\n",
    "        while(n>=8):\n",
    "            remainder = n%8\n",
    "            quotient = n//8\n",
    "            if (quotient<8):\n",
    "                octal.append(remainder)\n",
    "                octal.append(quotient)\n",
    "                break\n",
    "            else:\n",
    "                octal.append(remainder)\n",
    "                n = quotient        \n",
    "    \n",
    "    \n",
    "    print(\"\\nThe number in octal is:\",end=\"\")    \n",
    "    for i in range(len(octal)-1,-1,-1):\n",
    "        print(octal[i],end=\"\")\n",
    "        \n",
    "def decToHex(n):\n",
    "    if n<15:\n",
    "        hexa.append(conversionTable[n])\n",
    "    else:\n",
    "        while(n>=16):\n",
    "            remainder = n%16\n",
    "            quotient = n//16\n",
    "            if (quotient<=15):\n",
    "                hexa.append(conversionTable[remainder])\n",
    "                hexa.append(conversionTable[quotient])\n",
    "                break\n",
    "            else:\n",
    "                hexa.append(conversionTable[remainder])\n",
    "                n = quotient        \n",
    "\n",
    "\n",
    "    print(\"\\nThe number in Hexadecimal is:\", end=\"\")    \n",
    "    for i in range(len(hexa)-1,-1,-1):\n",
    "        print(hexa[i],end=\"\")\n",
    "\n",
    "decToBin(num)\n",
    "decToOct(num)\n",
    "decToHex(num)"
   ]
  },
  {
   "cell_type": "markdown",
   "metadata": {},
   "source": [
    "#### 4. Write a Python Program To Find ASCII value of a character?"
   ]
  },
  {
   "cell_type": "code",
   "execution_count": 23,
   "metadata": {},
   "outputs": [
    {
     "name": "stdout",
     "output_type": "stream",
     "text": [
      "Enter the character: +\n",
      "The ASCII value of ' + ' is:  43\n"
     ]
    }
   ],
   "source": [
    "a = input(\"Enter the character: \")\n",
    "def chartoAsci(character):\n",
    "    \"\"\"This is a function to print the ASCII value of any character. Please enter a single character in the argument\"\"\"\n",
    "    if len(character)>1:\n",
    "        print(\"Please enter a single character\")\n",
    "    else:\n",
    "        print(\"The ASCII value of '\",a,\"' is: \",ord(character)) \n",
    "chartoAsci(a)"
   ]
  },
  {
   "cell_type": "markdown",
   "metadata": {},
   "source": [
    "#### 5. Write a Python Program to Make a Simple Calculator with 4 basic mathematical operations?"
   ]
  },
  {
   "cell_type": "code",
   "execution_count": 7,
   "metadata": {},
   "outputs": [
    {
     "data": {
      "text/plain": [
       "125"
      ]
     },
     "execution_count": 7,
     "metadata": {},
     "output_type": "execute_result"
    }
   ],
   "source": [
    "def calculator(num1,num2,operator):\n",
    "    \"\"\"\n",
    "    This is a calculator function to make 4 basic mathematical operations, namely add, subtract, division or multiplication.\n",
    "    It accepts 3 parameters\n",
    "    num1 is the first number on which you would like to operate\n",
    "    num2 is the second number on which you would like to operate\n",
    "    Opearator is the mathematical operation you want to perform. Enter the operator inside inverted commas \n",
    "    Use + or plus or add or sum or plus for addition\n",
    "    Use - or minus or subtract for subtraction\n",
    "    Use x or * or multiply for multiplication\n",
    "    Use / or divide for division.\n",
    "    \n",
    "    For eg. calculator(3535,1342.35,\"/\") will give the output 2.633441352851343\n",
    "    \"\"\"\n",
    "    \n",
    "    if operator == \"+\" or operator == \"add\" or operator == \"sum\" or operator == \"plus\":\n",
    "        return num1+num2\n",
    "    elif operator == \"-\" or operator == \"minus\" or operator == \"subtract\":\n",
    "        return num1-num2\n",
    "    elif operator == \"x\" or operator == \"*\" or operator == \"multiply\":\n",
    "        return num1*num2\n",
    "    elif operator == \"/\" or operator == \"divide\":\n",
    "        return num1/num2\n",
    "    else:\n",
    "        print(\"Please enter a valid operator.\")\n",
    "        \n",
    "calculator(25,5,\"x\")"
   ]
  },
  {
   "cell_type": "code",
   "execution_count": 4,
   "metadata": {},
   "outputs": [
    {
     "data": {
      "text/plain": [
       "2.633441352851343"
      ]
     },
     "execution_count": 4,
     "metadata": {},
     "output_type": "execute_result"
    }
   ],
   "source": [
    "calculator(3535,1342.35,\"/\")"
   ]
  },
  {
   "cell_type": "code",
   "execution_count": null,
   "metadata": {},
   "outputs": [],
   "source": []
  },
  {
   "cell_type": "code",
   "execution_count": null,
   "metadata": {},
   "outputs": [],
   "source": []
  }
 ],
 "metadata": {
  "kernelspec": {
   "display_name": "Python 3",
   "language": "python",
   "name": "python3"
  },
  "language_info": {
   "codemirror_mode": {
    "name": "ipython",
    "version": 3
   },
   "file_extension": ".py",
   "mimetype": "text/x-python",
   "name": "python",
   "nbconvert_exporter": "python",
   "pygments_lexer": "ipython3",
   "version": "3.8.5"
  }
 },
 "nbformat": 4,
 "nbformat_minor": 4
}
