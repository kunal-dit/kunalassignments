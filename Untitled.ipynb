{
 "cells": [
  {
   "cell_type": "markdown",
   "id": "81c7785a",
   "metadata": {},
   "source": [
    "#### 1. In the below elements which of them are values or an expression? eg:- values can be integer or string and expressions will be mathematical operators. \n",
    "##### Ans 1 - \"hello\", \"-87.8\", and \"6\" "
   ]
  },
  {
   "cell_type": "markdown",
   "id": "28ee43a0",
   "metadata": {},
   "source": []
  },
  {
   "cell_type": "markdown",
   "id": "dfe051b1",
   "metadata": {},
   "source": [
    "#### 2. What is the difference between string and variable?\n",
    "##### Ans 2 - A variable is the name of the location in the RAM of the computer. In a variable, we can store different datatypes such as strings, integer, float, boolean, complex, etc. String is a datatype consisting of textual data. A variable can be created to store this datatype"
   ]
  },
  {
   "cell_type": "markdown",
   "id": "2c2621f8",
   "metadata": {},
   "source": []
  },
  {
   "cell_type": "markdown",
   "id": "a0312534",
   "metadata": {},
   "source": [
    "#### 3. Describe three different data types.\n",
    "##### Ans 3. The three major datatypes are as follows\n",
    "##### a. Integer - This datatype comprises of whole numbers.\n",
    "##### b. String - It comprises of alphabets, words and characters too\n",
    "##### c. Boolean - It comprises of two states. True and False. True is represented by 1 and False by 0."
   ]
  },
  {
   "cell_type": "code",
   "execution_count": null,
   "id": "9293107e",
   "metadata": {},
   "outputs": [],
   "source": []
  },
  {
   "cell_type": "markdown",
   "id": "243bcc5c",
   "metadata": {},
   "source": [
    "#### 4. What is an expression made up of? What do all expressions do?\n",
    "##### Ans 4 - Expression is made up of mathematical operator. It does mathematical operation between two similar datatypes."
   ]
  },
  {
   "cell_type": "code",
   "execution_count": null,
   "id": "74be702c",
   "metadata": {},
   "outputs": [],
   "source": []
  },
  {
   "cell_type": "markdown",
   "id": "6de616bd",
   "metadata": {},
   "source": [
    "#### 5. This assignment statements, like spam = 10. What is the difference between an expression and a statement?\n",
    "##### Ans 5 - Spam is a variable and we are assigning the value of 10 in it. In the expression, we perform a certain kind of operation between two similar datatypes to get a new value, altogether, where as a statement is simply an assignment of value to a variable"
   ]
  },
  {
   "cell_type": "code",
   "execution_count": null,
   "id": "2d7fba06",
   "metadata": {},
   "outputs": [],
   "source": []
  },
  {
   "cell_type": "markdown",
   "id": "48c2cdc1",
   "metadata": {},
   "source": [
    "#### 6. After running the following code, what does the variable bacon contain?\n",
    "#### bacon = 22\n",
    "#### bacon + 1\n",
    "\n",
    "##### Ans 6. It contains an integer datatype 22. As we can see we are not assigning new value to the variable, hence it will remain the same. \n"
   ]
  },
  {
   "cell_type": "code",
   "execution_count": null,
   "id": "ece59b07",
   "metadata": {},
   "outputs": [],
   "source": []
  },
  {
   "cell_type": "markdown",
   "id": "79adedc6",
   "metadata": {},
   "source": [
    "#### 7. What should the values of the following two terms be?\n",
    "#### 'spam' + 'spamspam'\n",
    "#### 'spam' * 3\n",
    "##### Ans 7. Both will have the same answer(a) spamspamspam (b)spamspamspam"
   ]
  },
  {
   "cell_type": "code",
   "execution_count": null,
   "id": "6bc81d36",
   "metadata": {},
   "outputs": [],
   "source": []
  },
  {
   "cell_type": "markdown",
   "id": "fccddf0d",
   "metadata": {},
   "source": [
    "#### 8. Why is eggs a valid variable name while 100 is invalid?\n",
    "##### Ans 8. Variable names cannot begin with a number"
   ]
  },
  {
   "cell_type": "code",
   "execution_count": null,
   "id": "86bc8f09",
   "metadata": {},
   "outputs": [],
   "source": []
  },
  {
   "cell_type": "markdown",
   "id": "8e2c8445",
   "metadata": {},
   "source": [
    "#### 9. What three functions can be used to get the integer, floating-point number, or string version of a value?\n",
    "##### Ans 9 - int(), float() and str() respectively"
   ]
  },
  {
   "cell_type": "code",
   "execution_count": null,
   "id": "1b6932d0",
   "metadata": {},
   "outputs": [],
   "source": []
  },
  {
   "cell_type": "markdown",
   "id": "eaafd867",
   "metadata": {},
   "source": [
    "#### 10. Why does this expression cause an error? How can you fix it? 'I have eaten ' + 99 + ' burritos.'\n",
    "#####  The expression causes an error because 99 is an integer, and only strings can be concatenated to other strings with the + operator. We can fix it in the following way:\n",
    "##### I have eaten ' + str(99) + ' burritos.'.\n"
   ]
  },
  {
   "cell_type": "code",
   "execution_count": null,
   "id": "f7191c34",
   "metadata": {},
   "outputs": [],
   "source": []
  }
 ],
 "metadata": {
  "kernelspec": {
   "display_name": "Python 3",
   "language": "python",
   "name": "python3"
  },
  "language_info": {
   "codemirror_mode": {
    "name": "ipython",
    "version": 3
   },
   "file_extension": ".py",
   "mimetype": "text/x-python",
   "name": "python",
   "nbconvert_exporter": "python",
   "pygments_lexer": "ipython3",
   "version": "3.8.8"
  }
 },
 "nbformat": 4,
 "nbformat_minor": 5
}
