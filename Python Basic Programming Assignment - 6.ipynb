{
 "cells": [
  {
   "cell_type": "markdown",
   "metadata": {},
   "source": [
    "#### 1. Write a Python Program to Display Fibonacci Sequence Using Recursion?"
   ]
  },
  {
   "cell_type": "code",
   "execution_count": 12,
   "metadata": {},
   "outputs": [
    {
     "name": "stdout",
     "output_type": "stream",
     "text": [
      "Enter the number:15\n",
      "0\n",
      "1\n",
      "1\n",
      "2\n",
      "3\n",
      "5\n",
      "8\n",
      "13\n",
      "21\n",
      "34\n",
      "55\n",
      "89\n",
      "144\n",
      "233\n",
      "377\n"
     ]
    }
   ],
   "source": [
    "n = int(input(\"Enter the number:\"))\n",
    "def fiboSeries(n):\n",
    "    if n==0:\n",
    "        return 0\n",
    "    elif n==1:\n",
    "        return 1\n",
    "    else:\n",
    "        return fiboSeries(n-2)+fiboSeries(n-1)\n",
    "for i in range (n):\n",
    "    print(fiboSeries(i))"
   ]
  },
  {
   "cell_type": "markdown",
   "metadata": {},
   "source": [
    "#### 2. Write a Python Program to Find Factorial of Number Using Recursion?"
   ]
  },
  {
   "cell_type": "code",
   "execution_count": 16,
   "metadata": {},
   "outputs": [
    {
     "name": "stdout",
     "output_type": "stream",
     "text": [
      "Enter a number to find factorial: 5\n",
      "120\n"
     ]
    }
   ],
   "source": [
    "n = int(input(\"Enter a number to find factorial: \"))\n",
    "\n",
    "def factorial(n):\n",
    "    if n ==1 or n==0:\n",
    "        return 1\n",
    "    else:\n",
    "        return(n*factorial(n-1))\n",
    "\n",
    "print(factorial(n))"
   ]
  },
  {
   "cell_type": "markdown",
   "metadata": {},
   "source": [
    "#### 3. Write a Python Program to calculate your Body Mass Index?"
   ]
  },
  {
   "cell_type": "code",
   "execution_count": 21,
   "metadata": {},
   "outputs": [
    {
     "name": "stdout",
     "output_type": "stream",
     "text": [
      "Enter your weight in kg: 85\n",
      "Enter your height in metres: 1.87\n",
      "The BMI of your body is  24.31 kg/sq m\n"
     ]
    }
   ],
   "source": [
    "weight = float(input(\"Enter your weight in kg: \"))\n",
    "height = float(input(\"Enter your height in metres: \"))\n",
    "def bMICalculator(weight,height):\n",
    "    bmi = weight/(height**2)\n",
    "    return round(bmi,2)\n",
    "print(\"The BMI of your body is \",bMICalculator(weight,height),\"kg/sq m\")"
   ]
  },
  {
   "cell_type": "markdown",
   "metadata": {},
   "source": [
    "#### 4. Write a Python Program to calculate the natural logarithm of any number?"
   ]
  },
  {
   "cell_type": "code",
   "execution_count": 32,
   "metadata": {},
   "outputs": [
    {
     "name": "stdout",
     "output_type": "stream",
     "text": [
      "Enter the number for which the natural log is to be calculated.10\n",
      "2.303\n"
     ]
    }
   ],
   "source": [
    "import math\n",
    "num = int(input(\"Enter the number for which the natural log is to be calculated.\"))\n",
    "\n",
    "if num<=0:\n",
    "    print(\"Please enter a natural number\")\n",
    "else: \n",
    "    print(round(math.log(num),3))\n"
   ]
  },
  {
   "cell_type": "markdown",
   "metadata": {},
   "source": [
    "#### 5.Write a Python Program for cube sum of first n natural numbers?"
   ]
  },
  {
   "cell_type": "code",
   "execution_count": 28,
   "metadata": {},
   "outputs": [
    {
     "name": "stdout",
     "output_type": "stream",
     "text": [
      "Enter a number till which the sum of cubes is required : 5\n",
      "225\n"
     ]
    }
   ],
   "source": [
    "num = int(input(\"Enter a number till which the sum of cubes is required : \"))\n",
    "sumCube = []\n",
    "\n",
    "for i in range(0,num+1):\n",
    "    sumCube.append(i**3)\n",
    "print(sum(sumCube))"
   ]
  }
 ],
 "metadata": {
  "kernelspec": {
   "display_name": "Python 3",
   "language": "python",
   "name": "python3"
  },
  "language_info": {
   "codemirror_mode": {
    "name": "ipython",
    "version": 3
   },
   "file_extension": ".py",
   "mimetype": "text/x-python",
   "name": "python",
   "nbconvert_exporter": "python",
   "pygments_lexer": "ipython3",
   "version": "3.8.5"
  }
 },
 "nbformat": 4,
 "nbformat_minor": 4
}
