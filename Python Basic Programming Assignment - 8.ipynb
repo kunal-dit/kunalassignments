{
 "cells": [
  {
   "cell_type": "markdown",
   "metadata": {},
   "source": [
    "#### 1. Write a Python Program to Add Two Matrices?"
   ]
  },
  {
   "cell_type": "code",
   "execution_count": 1,
   "metadata": {},
   "outputs": [],
   "source": [
    "def sumMatrix(mat1,mat2):\n",
    "    result = [[mat1[i][j]+mat2[i][j] for j in range(len(mat1[0]))] for i in range(len(mat1))]\n",
    "    return result"
   ]
  },
  {
   "cell_type": "code",
   "execution_count": 2,
   "metadata": {},
   "outputs": [
    {
     "data": {
      "text/plain": [
       "[[6, 8, 5], [13, 11, 14], [37, 53, 73], [2, 11, 20]]"
      ]
     },
     "execution_count": 2,
     "metadata": {},
     "output_type": "execute_result"
    }
   ],
   "source": [
    "mat1 = [[1,2,4],[5,6,7],[12,-1,5],[14,19,23]]\n",
    "mat2 = [[5,6,1],[8,5,7],[25,54,68],[-12,-8,-3]]\n",
    "\n",
    "sumMatrix(mat1,mat2)\n"
   ]
  },
  {
   "cell_type": "markdown",
   "metadata": {},
   "source": [
    "#### 2. Write a Python Program to Multiply Two Matrices?"
   ]
  },
  {
   "cell_type": "code",
   "execution_count": 28,
   "metadata": {},
   "outputs": [
    {
     "name": "stdout",
     "output_type": "stream",
     "text": [
      "Enter the rows of matrix 1: 2\n",
      "Enter the columns of matrix 1:2\n",
      "Row 1 Column 1 Value: \n",
      "5\n",
      "Row 1 Column 2 Value: \n",
      "7\n",
      "Row 2 Column 1 Value: \n",
      "8\n",
      "Row 2 Column 2 Value: \n",
      "9\n",
      "\n",
      "Matrix 1: [[5, 7], [8, 9]]\n",
      "\n",
      "Enter the rows of matrix 2: 2\n",
      "Enter the columns of matrix 2:2\n",
      "Row 1 Column 1 Value: \n",
      "8\n",
      "Row 1 Column 2 Value: \n",
      "9\n",
      "Row 2 Column 1 Value: \n",
      "6\n",
      "Row 2 Column 2 Value: \n",
      "3\n",
      "\n",
      "Matrix 2: [[8, 9], [6, 3]]\n",
      "\n",
      "The Matrix after Multiplication is:\n",
      "[[82, 66], [118, 99]]\n"
     ]
    }
   ],
   "source": [
    "m = int(input(\"Enter the rows of matrix 1: \"))\n",
    "n = int(input(\"Enter the columns of matrix 1:\"))\n",
    "Mat1=[]\n",
    "for i in range(m):\n",
    "    Mat1.append([])\n",
    "for i in range(m):\n",
    "    for j in range(n):\n",
    "        Mat1[i].append(j)\n",
    "        Mat1[i][j]=0\n",
    "        print(\"Row\", i+1, \"Column\", j+1, \"Value: \")\n",
    "        Mat1[i][j]=int(input())\n",
    "        \n",
    "print(\"\\nMatrix 1:\", Mat1)\n",
    "\n",
    "p = int(input(\"\\nEnter the rows of matrix 2: \"))\n",
    "q = int(input(\"Enter the columns of matrix 2:\"))\n",
    "Mat2=[]\n",
    "for i in range(p):\n",
    "    Mat2.append([])\n",
    "for i in range(p):\n",
    "    for j in range(q):\n",
    "        Mat2[i].append(q)\n",
    "        Mat2[i][j]=0\n",
    "        print(\"Row\", i+1, \"Column\", j+1, \"Value: \")\n",
    "        Mat2[i][j]=int(input())\n",
    "        \n",
    "print(\"\\nMatrix 2:\", Mat2)\n",
    "\n",
    "if n == p:\n",
    "    Result = []\n",
    "    for i in range(m):\n",
    "        Result.append([])\n",
    "    for i in range(m):\n",
    "        for j in range(q):\n",
    "            Result[i].append(j)\n",
    "            Result[i][j] = 0\n",
    "\n",
    "    for i in range(len(Mat1)):\n",
    "        for j in range(len(Mat2[0])):\n",
    "            for k in range(len(Mat2)):\n",
    "                Result[i][j] += Mat1[i][k] * Mat2[k][j]\n",
    "    print(\"\\nThe Matrix after Multiplication is:\")\n",
    "    print(Result)\n",
    "else:\n",
    "    print(\"\\nThe Multiplication is not possible as the number of rows in Matrix 1 and number of columns of Matrix 2 are not equal\")\n"
   ]
  },
  {
   "cell_type": "markdown",
   "metadata": {},
   "source": [
    "#### 3. Write a Python Program to Transpose a Matrix?"
   ]
  },
  {
   "cell_type": "code",
   "execution_count": 4,
   "metadata": {},
   "outputs": [
    {
     "name": "stdout",
     "output_type": "stream",
     "text": [
      "Enter the Number of Rows : 3\n",
      "Enter the Number of Columns: 3\n",
      "Enter the elements of Matrix:\n",
      "9\n",
      "8\n",
      "7\n",
      "6\n",
      "5\n",
      "4\n",
      "3\n",
      "2\n",
      "1\n",
      "The Original Matrix: \n",
      "[9, 8, 7]\n",
      "[6, 5, 4]\n",
      "[3, 2, 1]\n",
      "\n",
      "Transposed Matrix: \n",
      "[9, 6, 3]\n",
      "[8, 5, 2]\n",
      "[7, 4, 1]\n"
     ]
    }
   ],
   "source": [
    "rows = int(input(\"Enter the Number of Rows : \" ))\n",
    "column = int(input(\"Enter the Number of Columns: \"))\n",
    "\n",
    "print(\"Enter the elements of Matrix:\")\n",
    "matrix= [[int(input()) for i in range(column)] for i in range(rows)]\n",
    "print(\"The Original Matrix: \")\n",
    "for n in matrix:\n",
    "    print(n)\n",
    "\n",
    "result =[[0 for i in range(rows)] for j in range(column)]\n",
    "\n",
    "\n",
    "for r in range(rows):\n",
    "    for c in range(column):\n",
    "        result[c][r] = matrix[r][c]\n",
    "\n",
    "print(\"\\nTransposed Matrix: \")\n",
    "for r in result:\n",
    "    print(r)"
   ]
  },
  {
   "cell_type": "markdown",
   "metadata": {},
   "source": [
    "### 4. Write a Python Program to Sort Words in Alphabetic Order?"
   ]
  },
  {
   "cell_type": "code",
   "execution_count": 6,
   "metadata": {},
   "outputs": [
    {
     "name": "stdout",
     "output_type": "stream",
     "text": [
      "Enter the number of words to be sorted: 5\n",
      "Enter the word:ineuron\n",
      "Enter the word:oneneuron\n",
      "Enter the word:techneuron\n",
      "Enter the word:kidsneuron\n",
      "Enter the word:adultneuron\n",
      "['adultneuron', 'ineuron', 'kidsneuron', 'oneneuron', 'techneuron']\n"
     ]
    }
   ],
   "source": [
    "number = int(input(\"Enter the number of words to be sorted: \"))\n",
    "wordlist = []\n",
    "for i in range(number):\n",
    "    wordlist.append(input(\"Enter the word:\"))\n",
    "print(sorted(wordlist))\n",
    "    "
   ]
  },
  {
   "cell_type": "markdown",
   "metadata": {},
   "source": [
    "### 5. Write a Python Program to Remove Punctuation From a String?"
   ]
  },
  {
   "cell_type": "code",
   "execution_count": 7,
   "metadata": {},
   "outputs": [
    {
     "name": "stdout",
     "output_type": "stream",
     "text": [
      "Enter the sentence with punctuations:I ! am . really, the ;best in world.\n",
      "The Sentence without punctuation is:  I  am  really the best in world\n"
     ]
    }
   ],
   "source": [
    "stringSentence = (input(\"Enter the sentence with punctuations:\"))\n",
    "\n",
    "import re\n",
    "reSentence = re.sub(r'[^\\w\\s]', '', stringSentence)\n",
    "\n",
    "print(\"The Sentence without punctuation is: \", reSentence)"
   ]
  },
  {
   "cell_type": "code",
   "execution_count": null,
   "metadata": {},
   "outputs": [],
   "source": []
  }
 ],
 "metadata": {
  "kernelspec": {
   "display_name": "Python 3",
   "language": "python",
   "name": "python3"
  },
  "language_info": {
   "codemirror_mode": {
    "name": "ipython",
    "version": 3
   },
   "file_extension": ".py",
   "mimetype": "text/x-python",
   "name": "python",
   "nbconvert_exporter": "python",
   "pygments_lexer": "ipython3",
   "version": "3.8.5"
  }
 },
 "nbformat": 4,
 "nbformat_minor": 4
}
